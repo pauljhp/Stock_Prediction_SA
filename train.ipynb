{
 "cells": [
  {
   "cell_type": "markdown",
   "metadata": {},
   "source": [
    "# Training the sentiment price prediction model"
   ]
  },
  {
   "cell_type": "markdown",
   "metadata": {},
   "source": [
    "## 0. Setup\n",
    "\n",
    "Run `$ bash setup.sh` to set up environments and download data."
   ]
  },
  {
   "cell_type": "code",
   "execution_count": null,
   "metadata": {},
   "outputs": [],
   "source": [
    "# setup environment\n",
    "!bash setup.sh"
   ]
  },
  {
   "cell_type": "code",
   "execution_count": null,
   "metadata": {},
   "outputs": [],
   "source": [
    "# You can also set up the environment manually:\n",
    "!conda create --name sent_env --file requirements.txt\n",
    "\n",
    "# --or--\n",
    "# !conda conda env create -f environment.yml\n",
    "\n",
    "!mkdir -p ./data\n",
    "\n",
    "# then download the sql files:\n",
    "!gdown https://drive.google.com/file/d/1YG_AQIbcY2Mi-bKMLN1hff66jDBFeh4O/view?usp=sharing -O ./data/spx_news_sentiment_fundamental.db\n",
    "!gdown https://drive.google.com/file/d/1C49ElctSD0hPsukQTkioneA7PeWBlMfe/view?usp=sharing -O ./data/spx_news_sentiment_price.db"
   ]
  },
  {
   "cell_type": "markdown",
   "metadata": {},
   "source": [
    "## 1. Loading data\n",
    "\n",
    "A dataset class has been implemented already. \n",
    "\n",
    "This uses the iterable style of the `Dataset` class.\n",
    "\n",
    "Initiate the BaseDataset class by passing a Config object, and wrap the kwargs\n",
    "into the Config object. \n",
    "\n",
    "When calling the `__iter__` method using `for data in dataset`, a triple will be returned `(x1, x2, y)`. x1 is the sentiment/price data, x2 is the past financial data up until the train data time, and y is the share price performance during the look_forward period (defaul 5 days, or a trading week). \n",
    "\n",
    "The `forward()` method needs to take in (x1, x2), as x2 carries information about the stock's fundamentals and type, but is of a different dimension as x1. An autoencoder model has been implemented and trained to convert the different dimensions of x2 into the same hidden dimensions (and is also useful for dimensionality reduction).\n",
    "\n",
    "Note x1 and x2 are scaled to between -1 and 1. "
   ]
  },
  {
   "cell_type": "code",
   "execution_count": 11,
   "metadata": {},
   "outputs": [],
   "source": [
    "from datasets.datasets import BaseDataset\n",
    "from torch.utils.data import Dataset, DataLoader\n",
    "import pandas as pd\n",
    "from utils import Config\n",
    "\n",
    "train_config = Config(mode='train', look_back=100, look_forward=5, num_workers=64)\n",
    "test_config = Config(mode='test', look_back=100, look_forward=5, num_workers=64)\n",
    "train_dataset = BaseDataset(config=train_config)\n",
    "test_dataset = BaseDataset(config=test_config)"
   ]
  },
  {
   "cell_type": "markdown",
   "metadata": {},
   "source": [
    "## 2. Train autoencoder"
   ]
  },
  {
   "cell_type": "code",
   "execution_count": 12,
   "metadata": {},
   "outputs": [
    {
     "name": "stdout",
     "output_type": "stream",
     "text": [
      "AutoEncoder(\n",
      "  (LSTM_encoder): LSTM(50, 10)\n",
      "  (Conv1D_encoder): Conv1d(88, 88, kernel_size=(3,), stride=(1,))\n",
      "  (MaxPool1D_encoder): MaxPool1d(kernel_size=2, stride=2, padding=0, dilation=1, ceil_mode=False)\n",
      "  (Dense_encoder): Linear(in_features=352, out_features=2, bias=True)\n",
      "  (Dense_decoder): Linear(in_features=2, out_features=352, bias=True)\n",
      "  (MaxUnpool1D_decoder): MaxUnpool1d(kernel_size=(2,), stride=(2,), padding=(0,))\n",
      "  (DeConv1D_decoder): ConvTranspose1d(88, 88, kernel_size=(3,), stride=(1,))\n",
      "  (LSTM_decoder): LSTM(10, 50)\n",
      ")\n"
     ]
    }
   ],
   "source": [
    "from models.autoencoder import AutoEncoder\n",
    "input_dims = (88, 50)\n",
    "hidden_dims = (2, )\n",
    "config = Config(input_dims=input_dims, hidden_dims=hidden_dims, padding=-1.)\n",
    "model = AutoEncoder(config)\n",
    "print(model)"
   ]
  },
  {
   "cell_type": "markdown",
   "metadata": {},
   "source": [
    "### 2.1 Train loop"
   ]
  },
  {
   "cell_type": "code",
   "execution_count": null,
   "metadata": {},
   "outputs": [],
   "source": [
    "import torch.optim as optim\n",
    "import torch.nn as nn\n",
    "import torch.functional as F\n",
    "import torch\n",
    "from utils import padding\n",
    "from torch.utils.tensorboard import SummaryWriter\n",
    "import os\n",
    "\n",
    "lr = 5e-4\n",
    "epoches = 50\n",
    "run_no = 4\n",
    "\n",
    "RUNNAME = f\"{run_no}; lr={lr}; epoch={epoches}\"\n",
    "SAVEPATH = f\"./runs/{RUNNAME}\"\n",
    "\n",
    "os.makedirs(SAVEPATH, exist_ok=True)\n",
    "\n",
    "writer = SummaryWriter(f'./logs/autoencoder{RUNNAME}')\n",
    "\n",
    "criterion = nn.MSELoss()\n",
    "optimizer = optim.Adam(model.parameters(), lr=lr)\n",
    "\n",
    "for epoch in range(epoches):\n",
    "    running_loss = 0.\n",
    "    for data in train_dataset:\n",
    "        optimizer.zero_grad()\n",
    "        _, x2, _ = data\n",
    "        output, _ = model(x2)\n",
    "        output = padding(output, direction='left', pad_value=-1., \n",
    "            repeat=input_dims[-1] - output.shape[-1])\n",
    "        x2 = padding(x2, direction='left', pad_value=-1.,\n",
    "            repeat=input_dims[-1] - x2.shape[-1])\n",
    "        loss = criterion(output, x2)\n",
    "        loss.backward()\n",
    "        running_loss += loss.item()\n",
    "        optimizer.step()\n",
    "\n",
    "    writer.add_scalar('loss', running_loss / (len(train_dataset) + \n",
    "        len(test_dataset)), epoch)\n",
    "    if epoch % 5 == 0:\n",
    "        torch.save(dict(epoch=epoch,\n",
    "            model_state_dict=model.state_dict(),\n",
    "            optimizer_state_dict=optimizer.state_dict(),\n",
    "            loss=loss),\n",
    "            os.path.join(SAVEPATH, f\"checkpoint_{epoch}.pt\")\n",
    "            )\n",
    "\n"
   ]
  },
  {
   "cell_type": "code",
   "execution_count": 14,
   "metadata": {},
   "outputs": [
    {
     "data": {
      "text/plain": [
       "tensor([[-0.6420, -0.6420, -0.6420,  ..., -0.6407, -0.6411, -0.6411],\n",
       "        [-0.7461, -0.7461, -0.7461,  ..., -0.7447, -0.7446, -0.7448],\n",
       "        [-0.7595, -0.7595, -0.7595,  ..., -0.7589, -0.7590, -0.7590],\n",
       "        ...,\n",
       "        [-0.7616, -0.7616, -0.7616,  ..., -0.6417, -0.6415, -0.6416],\n",
       "        [-0.7616, -0.7616, -0.7616,  ..., -0.7452, -0.7447, -0.7449],\n",
       "        [-0.7616, -0.7616, -0.7616,  ...,  0.6351,  0.6394,  0.6389]],\n",
       "       dtype=torch.float64, grad_fn=<TanhBackward0>)"
      ]
     },
     "execution_count": 14,
     "metadata": {},
     "output_type": "execute_result"
    }
   ],
   "source": [
    "model(x2)[0]"
   ]
  },
  {
   "cell_type": "markdown",
   "metadata": {},
   "source": [
    "### 2.2 Run inference on the autoencoder"
   ]
  },
  {
   "cell_type": "code",
   "execution_count": 23,
   "metadata": {},
   "outputs": [
    {
     "data": {
      "text/plain": [
       "tensor([-0.9682,  0.6428], dtype=torch.float64, grad_fn=<TanhBackward0>)"
      ]
     },
     "execution_count": 23,
     "metadata": {},
     "output_type": "execute_result"
    }
   ],
   "source": [
    "model(next(train_dataset.load_ticker_data(\"AAPL\", mode='train'))[1])[1]"
   ]
  },
  {
   "cell_type": "code",
   "execution_count": 24,
   "metadata": {},
   "outputs": [
    {
     "data": {
      "text/plain": [
       "tensor([-0.9999, -0.8178], dtype=torch.float64, grad_fn=<TanhBackward0>)"
      ]
     },
     "execution_count": 24,
     "metadata": {},
     "output_type": "execute_result"
    }
   ],
   "source": [
    "model(next(test_dataset.load_ticker_data(\"AAPL\", mode='test'))[1])[1]"
   ]
  },
  {
   "cell_type": "code",
   "execution_count": 16,
   "metadata": {},
   "outputs": [],
   "source": [
    "plot_data = {}\n",
    "for ticker in test_dataset.tickers:\n",
    "    loc = model(next(test_dataset.load_ticker_data(ticker, mode='test'))[1])[1].detach().numpy()\n",
    "    plot_data[ticker] = loc\n",
    "plot_data = pd.DataFrame(plot_data)"
   ]
  },
  {
   "cell_type": "code",
   "execution_count": 20,
   "metadata": {},
   "outputs": [
    {
     "data": {
      "text/html": [
       "<div>\n",
       "<style scoped>\n",
       "    .dataframe tbody tr th:only-of-type {\n",
       "        vertical-align: middle;\n",
       "    }\n",
       "\n",
       "    .dataframe tbody tr th {\n",
       "        vertical-align: top;\n",
       "    }\n",
       "\n",
       "    .dataframe thead th {\n",
       "        text-align: right;\n",
       "    }\n",
       "</style>\n",
       "<table border=\"1\" class=\"dataframe\">\n",
       "  <thead>\n",
       "    <tr style=\"text-align: right;\">\n",
       "      <th></th>\n",
       "      <th>0</th>\n",
       "      <th>1</th>\n",
       "    </tr>\n",
       "  </thead>\n",
       "  <tbody>\n",
       "    <tr>\n",
       "      <th>GIS</th>\n",
       "      <td>-1.000000</td>\n",
       "      <td>-0.997127</td>\n",
       "    </tr>\n",
       "    <tr>\n",
       "      <th>AIG</th>\n",
       "      <td>-1.000000</td>\n",
       "      <td>-0.996227</td>\n",
       "    </tr>\n",
       "    <tr>\n",
       "      <th>DIS</th>\n",
       "      <td>-1.000000</td>\n",
       "      <td>-0.996248</td>\n",
       "    </tr>\n",
       "    <tr>\n",
       "      <th>BEN</th>\n",
       "      <td>-1.000000</td>\n",
       "      <td>-0.995145</td>\n",
       "    </tr>\n",
       "    <tr>\n",
       "      <th>CLX</th>\n",
       "      <td>-1.000000</td>\n",
       "      <td>-0.994877</td>\n",
       "    </tr>\n",
       "    <tr>\n",
       "      <th>ABT</th>\n",
       "      <td>-1.000000</td>\n",
       "      <td>-0.994930</td>\n",
       "    </tr>\n",
       "    <tr>\n",
       "      <th>CTAS</th>\n",
       "      <td>-1.000000</td>\n",
       "      <td>-0.994849</td>\n",
       "    </tr>\n",
       "    <tr>\n",
       "      <th>APD</th>\n",
       "      <td>-1.000000</td>\n",
       "      <td>-0.994802</td>\n",
       "    </tr>\n",
       "    <tr>\n",
       "      <th>CSX</th>\n",
       "      <td>-1.000000</td>\n",
       "      <td>-0.994745</td>\n",
       "    </tr>\n",
       "    <tr>\n",
       "      <th>BDX</th>\n",
       "      <td>-1.000000</td>\n",
       "      <td>-0.994839</td>\n",
       "    </tr>\n",
       "    <tr>\n",
       "      <th>CL</th>\n",
       "      <td>-1.000000</td>\n",
       "      <td>-0.994818</td>\n",
       "    </tr>\n",
       "    <tr>\n",
       "      <th>AOS</th>\n",
       "      <td>-1.000000</td>\n",
       "      <td>-0.994684</td>\n",
       "    </tr>\n",
       "    <tr>\n",
       "      <th>BAX</th>\n",
       "      <td>-1.000000</td>\n",
       "      <td>-0.994775</td>\n",
       "    </tr>\n",
       "    <tr>\n",
       "      <th>CVS</th>\n",
       "      <td>-1.000000</td>\n",
       "      <td>-0.994793</td>\n",
       "    </tr>\n",
       "    <tr>\n",
       "      <th>HON</th>\n",
       "      <td>-1.000000</td>\n",
       "      <td>-0.994707</td>\n",
       "    </tr>\n",
       "    <tr>\n",
       "      <th>CAT</th>\n",
       "      <td>-1.000000</td>\n",
       "      <td>-0.994697</td>\n",
       "    </tr>\n",
       "    <tr>\n",
       "      <th>COP</th>\n",
       "      <td>-1.000000</td>\n",
       "      <td>-0.994739</td>\n",
       "    </tr>\n",
       "    <tr>\n",
       "      <th>J</th>\n",
       "      <td>-1.000000</td>\n",
       "      <td>-0.994660</td>\n",
       "    </tr>\n",
       "    <tr>\n",
       "      <th>CMCSA</th>\n",
       "      <td>-1.000000</td>\n",
       "      <td>-0.994628</td>\n",
       "    </tr>\n",
       "    <tr>\n",
       "      <th>MSFT</th>\n",
       "      <td>-0.999999</td>\n",
       "      <td>-0.983599</td>\n",
       "    </tr>\n",
       "    <tr>\n",
       "      <th>ADBE</th>\n",
       "      <td>-0.999999</td>\n",
       "      <td>-0.983873</td>\n",
       "    </tr>\n",
       "    <tr>\n",
       "      <th>ORCL</th>\n",
       "      <td>-0.999999</td>\n",
       "      <td>-0.983243</td>\n",
       "    </tr>\n",
       "    <tr>\n",
       "      <th>VTRS</th>\n",
       "      <td>-0.999999</td>\n",
       "      <td>-0.983047</td>\n",
       "    </tr>\n",
       "    <tr>\n",
       "      <th>ADSK</th>\n",
       "      <td>-0.999999</td>\n",
       "      <td>-0.983119</td>\n",
       "    </tr>\n",
       "    <tr>\n",
       "      <th>ADP</th>\n",
       "      <td>-0.999999</td>\n",
       "      <td>-0.982147</td>\n",
       "    </tr>\n",
       "    <tr>\n",
       "      <th>BIO</th>\n",
       "      <td>-0.999999</td>\n",
       "      <td>-0.982170</td>\n",
       "    </tr>\n",
       "    <tr>\n",
       "      <th>PSA</th>\n",
       "      <td>-0.999999</td>\n",
       "      <td>-0.981867</td>\n",
       "    </tr>\n",
       "    <tr>\n",
       "      <th>AMAT</th>\n",
       "      <td>-0.999999</td>\n",
       "      <td>-0.981970</td>\n",
       "    </tr>\n",
       "    <tr>\n",
       "      <th>ALK</th>\n",
       "      <td>-0.999999</td>\n",
       "      <td>-0.981669</td>\n",
       "    </tr>\n",
       "    <tr>\n",
       "      <th>CHD</th>\n",
       "      <td>-0.999999</td>\n",
       "      <td>-0.981573</td>\n",
       "    </tr>\n",
       "    <tr>\n",
       "      <th>DRE</th>\n",
       "      <td>-0.999999</td>\n",
       "      <td>-0.981571</td>\n",
       "    </tr>\n",
       "    <tr>\n",
       "      <th>AJG</th>\n",
       "      <td>-0.999999</td>\n",
       "      <td>-0.981472</td>\n",
       "    </tr>\n",
       "    <tr>\n",
       "      <th>AVY</th>\n",
       "      <td>-0.999999</td>\n",
       "      <td>-0.981459</td>\n",
       "    </tr>\n",
       "    <tr>\n",
       "      <th>DHR</th>\n",
       "      <td>-0.999999</td>\n",
       "      <td>-0.981418</td>\n",
       "    </tr>\n",
       "    <tr>\n",
       "      <th>AME</th>\n",
       "      <td>-0.999999</td>\n",
       "      <td>-0.981272</td>\n",
       "    </tr>\n",
       "    <tr>\n",
       "      <th>APA</th>\n",
       "      <td>-0.999999</td>\n",
       "      <td>-0.981958</td>\n",
       "    </tr>\n",
       "    <tr>\n",
       "      <th>BA</th>\n",
       "      <td>-0.999999</td>\n",
       "      <td>-0.980795</td>\n",
       "    </tr>\n",
       "    <tr>\n",
       "      <th>BBY</th>\n",
       "      <td>-0.999999</td>\n",
       "      <td>-0.980996</td>\n",
       "    </tr>\n",
       "    <tr>\n",
       "      <th>DE</th>\n",
       "      <td>-0.999999</td>\n",
       "      <td>-0.980865</td>\n",
       "    </tr>\n",
       "    <tr>\n",
       "      <th>CMI</th>\n",
       "      <td>-0.999999</td>\n",
       "      <td>-0.980673</td>\n",
       "    </tr>\n",
       "    <tr>\n",
       "      <th>ADM</th>\n",
       "      <td>-0.999999</td>\n",
       "      <td>-0.980887</td>\n",
       "    </tr>\n",
       "    <tr>\n",
       "      <th>AON</th>\n",
       "      <td>-0.999999</td>\n",
       "      <td>-0.980828</td>\n",
       "    </tr>\n",
       "    <tr>\n",
       "      <th>CI</th>\n",
       "      <td>-0.999999</td>\n",
       "      <td>-0.980094</td>\n",
       "    </tr>\n",
       "    <tr>\n",
       "      <th>CINF</th>\n",
       "      <td>-0.999999</td>\n",
       "      <td>-0.979807</td>\n",
       "    </tr>\n",
       "    <tr>\n",
       "      <th>BK</th>\n",
       "      <td>-0.999999</td>\n",
       "      <td>-0.977958</td>\n",
       "    </tr>\n",
       "    <tr>\n",
       "      <th>AFL</th>\n",
       "      <td>-0.999999</td>\n",
       "      <td>-0.977337</td>\n",
       "    </tr>\n",
       "    <tr>\n",
       "      <th>AMGN</th>\n",
       "      <td>-0.999928</td>\n",
       "      <td>-0.824793</td>\n",
       "    </tr>\n",
       "    <tr>\n",
       "      <th>BMY</th>\n",
       "      <td>-0.999927</td>\n",
       "      <td>-0.825256</td>\n",
       "    </tr>\n",
       "    <tr>\n",
       "      <th>CDNS</th>\n",
       "      <td>-0.999927</td>\n",
       "      <td>-0.822958</td>\n",
       "    </tr>\n",
       "    <tr>\n",
       "      <th>CCL</th>\n",
       "      <td>-0.999924</td>\n",
       "      <td>-0.819951</td>\n",
       "    </tr>\n",
       "  </tbody>\n",
       "</table>\n",
       "</div>"
      ],
      "text/plain": [
       "              0         1\n",
       "GIS   -1.000000 -0.997127\n",
       "AIG   -1.000000 -0.996227\n",
       "DIS   -1.000000 -0.996248\n",
       "BEN   -1.000000 -0.995145\n",
       "CLX   -1.000000 -0.994877\n",
       "ABT   -1.000000 -0.994930\n",
       "CTAS  -1.000000 -0.994849\n",
       "APD   -1.000000 -0.994802\n",
       "CSX   -1.000000 -0.994745\n",
       "BDX   -1.000000 -0.994839\n",
       "CL    -1.000000 -0.994818\n",
       "AOS   -1.000000 -0.994684\n",
       "BAX   -1.000000 -0.994775\n",
       "CVS   -1.000000 -0.994793\n",
       "HON   -1.000000 -0.994707\n",
       "CAT   -1.000000 -0.994697\n",
       "COP   -1.000000 -0.994739\n",
       "J     -1.000000 -0.994660\n",
       "CMCSA -1.000000 -0.994628\n",
       "MSFT  -0.999999 -0.983599\n",
       "ADBE  -0.999999 -0.983873\n",
       "ORCL  -0.999999 -0.983243\n",
       "VTRS  -0.999999 -0.983047\n",
       "ADSK  -0.999999 -0.983119\n",
       "ADP   -0.999999 -0.982147\n",
       "BIO   -0.999999 -0.982170\n",
       "PSA   -0.999999 -0.981867\n",
       "AMAT  -0.999999 -0.981970\n",
       "ALK   -0.999999 -0.981669\n",
       "CHD   -0.999999 -0.981573\n",
       "DRE   -0.999999 -0.981571\n",
       "AJG   -0.999999 -0.981472\n",
       "AVY   -0.999999 -0.981459\n",
       "DHR   -0.999999 -0.981418\n",
       "AME   -0.999999 -0.981272\n",
       "APA   -0.999999 -0.981958\n",
       "BA    -0.999999 -0.980795\n",
       "BBY   -0.999999 -0.980996\n",
       "DE    -0.999999 -0.980865\n",
       "CMI   -0.999999 -0.980673\n",
       "ADM   -0.999999 -0.980887\n",
       "AON   -0.999999 -0.980828\n",
       "CI    -0.999999 -0.980094\n",
       "CINF  -0.999999 -0.979807\n",
       "BK    -0.999999 -0.977958\n",
       "AFL   -0.999999 -0.977337\n",
       "AMGN  -0.999928 -0.824793\n",
       "BMY   -0.999927 -0.825256\n",
       "CDNS  -0.999927 -0.822958\n",
       "CCL   -0.999924 -0.819951"
      ]
     },
     "execution_count": 20,
     "metadata": {},
     "output_type": "execute_result"
    }
   ],
   "source": [
    "plot_data.sort_values([0, 1], axis=1).T.head(50)"
   ]
  },
  {
   "cell_type": "code",
   "execution_count": 18,
   "metadata": {},
   "outputs": [
    {
     "data": {
      "image/png": "[encoded data removed]",
      "text/plain": [
       "<Figure size 720x360 with 1 Axes>"
      ]
     },
     "metadata": {
      "needs_background": "light"
     },
     "output_type": "display_data"
    }
   ],
   "source": [
    "import matplotlib.pyplot as plt\n",
    "import numpy as np\n",
    "f, ax = plt.subplots(1, figsize=(10, 5))\n",
    "ax.scatter(plot_data.iloc[0,], \n",
    "    plot_data.iloc[1,],\n",
    "    label='spx stocks')\n",
    "for ticker, (x, y) in plot_data.items():\n",
    "    ax.annotate(ticker, (x, y))\n",
    "ax.legend()\n",
    "ax.set(title=\"SPX companeis - autoencoder embeddings\")\n",
    "plt.show()"
   ]
  },
  {
   "cell_type": "markdown",
   "metadata": {},
   "source": [
    "### 2.3 Loading the pretrained autoencoder"
   ]
  },
  {
   "cell_type": "code",
   "execution_count": null,
   "metadata": {},
   "outputs": [],
   "source": [
    "!mkdir -p ./runs/checkpoints/\n",
    "!gdown https://drive.google.com/file/d/13pQb8heOYzLbniJZG4GuJNfWYUnwJDxJ/view?usp=sharing -O ./runs/checkpoint/autoencoder.pt"
   ]
  }
 ],
 "metadata": {
  "kernelspec": {
   "display_name": "Python 3.9.12 ('sent_env')",
   "language": "python",
   "name": "python3"
  },
  "language_info": {
   "codemirror_mode": {
    "name": "ipython",
    "version": 3
   },
   "file_extension": ".py",
   "mimetype": "text/x-python",
   "name": "python",
   "nbconvert_exporter": "python",
   "pygments_lexer": "ipython3",
   "version": "3.9.12"
  },
  "orig_nbformat": 4,
  "vscode": {
   "interpreter": {
    "hash": "3fa5fd258d5799b56102c839ebdb81d43440c6319b18894ac20aca9c2309d787"
   }
  }
 },
 "nbformat": 4,
 "nbformat_minor": 2
}
