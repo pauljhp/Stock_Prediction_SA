{
 "cells": [
  {
   "cell_type": "markdown",
   "metadata": {},
   "source": [
    "# Training the sentiment price prediction model"
   ]
  },
  {
   "cell_type": "markdown",
   "metadata": {},
   "source": [
    "## 0. Setup\n",
    "\n",
    "Run `$ bash setup.sh` to set up environments and download data."
   ]
  },
  {
   "cell_type": "code",
   "execution_count": null,
   "metadata": {},
   "outputs": [],
   "source": [
    "# setup environment\n",
    "!bash setup.sh"
   ]
  },
  {
   "cell_type": "code",
   "execution_count": null,
   "metadata": {},
   "outputs": [],
   "source": [
    "# You can also set up the environment manually:\n",
    "# !conda create --name sent_env --file requirements.txt\n",
    "\n",
    "# --or--\n",
    "# !conda conda env create -f environment.yml\n",
    "\n",
    "!mkdir -p ./data\n",
    "\n",
    "# then download the sql files:\n",
    "!gdown https://drive.google.com/file/d/1YG_AQIbcY2Mi-bKMLN1hff66jDBFeh4O/view?usp=sharing -O ./data/spx_news_sentiment_fundamental.db\n",
    "!gdown https://drive.google.com/file/d/1C49ElctSD0hPsukQTkioneA7PeWBlMfe/view?usp=sharing -O ./data/spx_news_sentiment_price.db"
   ]
  },
  {
   "cell_type": "markdown",
   "metadata": {},
   "source": [
    "## 1. Loading data\n",
    "\n",
    "A dataset class has been implemented already. \n",
    "\n",
    "This uses the iterable style of the `Dataset` class.\n",
    "\n",
    "Initiate the BaseDataset class by passing a Config object, and wrap the kwargs\n",
    "into the Config object. \n",
    "\n",
    "When calling the `__iter__` method using `for data in dataset`, a triple will be returned `(x1, x2, y)`. x1 is the sentiment/price data, x2 is the past financial data up until the train data time, and y is the share price performance during the look_forward period (defaul 5 days, or a trading week). \n",
    "\n",
    "The `forward()` method needs to take in (x1, x2), as x2 carries information about the stock's fundamentals and type, but is of a different dimension as x1. An autoencoder model has been implemented and trained to convert the different dimensions of x2 into the same hidden dimensions (and is also useful for dimensionality reduction).\n",
    "\n",
    "Note x1 and x2 are scaled to between -1 and 1. "
   ]
  },
  {
   "cell_type": "code",
   "execution_count": 1,
   "metadata": {},
   "outputs": [],
   "source": [
    "from datasets.datasets import BaseDataset\n",
    "from torch.utils.data import Dataset, DataLoader\n",
    "import pandas as pd\n",
    "from utils import Config\n",
    "\n",
    "fill_value = -1.0\n",
    "train_config = Config(mode='train', look_back=100, look_forward=5, \n",
    "    num_workers=128, fill_value=fill_value, feature_range=(-.9, .9))\n",
    "# we only scale data to (-0.9, 0.9), but fill the missing data with -1.0. This way the model will figure out that -1.0 means missing data\n",
    "test_config = Config(mode='test', look_back=100, look_forward=5, \n",
    "    num_workers=128, fill_value=fill_value, feature_range=(-.9, .9))\n",
    "train_dataset = BaseDataset(config=train_config)\n",
    "# test_dataset = BaseDataset(config=test_config)"
   ]
  },
  {
   "cell_type": "markdown",
   "metadata": {},
   "source": [
    "## 2. Train autoencoder"
   ]
  },
  {
   "cell_type": "code",
   "execution_count": 2,
   "metadata": {},
   "outputs": [
    {
     "name": "stdout",
     "output_type": "stream",
     "text": [
      "AutoEncoder(\n",
      "  (activation): Tanh()\n",
      "  (LSTM_encoder): LSTM(88, 10, batch_first=True)\n",
      "  (Conv1D_encoder1): Conv1d(50, 50, kernel_size=(3,), stride=(1,), padding=(1,))\n",
      "  (Conv1D_encoder2): Conv1d(50, 50, kernel_size=(5,), stride=(1,), padding=(2,))\n",
      "  (Conv1D_encoder3): Conv1d(50, 50, kernel_size=(7,), stride=(1,), padding=(3,))\n",
      "  (MaxPool1D_encoder): MaxPool1d(kernel_size=2, stride=2, padding=0, dilation=1, ceil_mode=False)\n",
      "  (Dense_encoder): Linear(in_features=250, out_features=2, bias=True)\n",
      "  (Dense_decoder): Linear(in_features=2, out_features=250, bias=True)\n",
      "  (MaxUnpool1D_decoder): MaxUnpool1d(kernel_size=(2,), stride=(2,), padding=(0,))\n",
      "  (DeConv1D_decoder1): ConvTranspose1d(50, 50, kernel_size=(7,), stride=(1,), padding=(3,))\n",
      "  (DeConv1D_decoder2): ConvTranspose1d(50, 50, kernel_size=(5,), stride=(1,), padding=(2,))\n",
      "  (DeConv1D_decoder3): ConvTranspose1d(50, 50, kernel_size=(3,), stride=(1,), padding=(1,))\n",
      "  (LSTM_decoder): LSTM(10, 88)\n",
      ")\n"
     ]
    }
   ],
   "source": [
    "from models.autoencoder import AutoEncoder\n",
    "import torch.nn as nn\n",
    "\n",
    "input_dims = (50, 88)\n",
    "hidden_dims = (2, )\n",
    "lstm_hidden = 10\n",
    "model_config = Config(input_dims=input_dims, hidden_dims=hidden_dims, \n",
    "    padding=-1., activation=nn.Tanh(), # nn.LeakyReLU(negative_slope=0.1)\n",
    "    batch_first=True,\n",
    "    lstm_hidden=lstm_hidden)\n",
    "model = AutoEncoder(model_config)\n",
    "print(model)"
   ]
  },
  {
   "cell_type": "markdown",
   "metadata": {},
   "source": [
    "### 2.1 Train loop"
   ]
  },
  {
   "cell_type": "code",
   "execution_count": 37,
   "metadata": {},
   "outputs": [
    {
     "data": {
      "text/plain": [
       "(128, 50, 5)"
      ]
     },
     "execution_count": 37,
     "metadata": {},
     "output_type": "execute_result"
    }
   ],
   "source": [
    "tuple(ind.shape)"
   ]
  },
  {
   "cell_type": "code",
   "execution_count": null,
   "metadata": {},
   "outputs": [],
   "source": []
  },
  {
   "cell_type": "code",
   "execution_count": 22,
   "metadata": {},
   "outputs": [
    {
     "data": {
      "text/plain": [
       "torch.Size([128, 2])"
      ]
     },
     "execution_count": 22,
     "metadata": {},
     "output_type": "execute_result"
    }
   ],
   "source": [
    "x = model.LSTM_encoder.forward(x2.permute(0, 2, 1))[0]\n",
    "x = model.Conv1D_encoder1.forward(x)\n",
    "x, ind = model.MaxPool1D_encoder(x)\n",
    "x = x.reshape((x.shape[0], -1))\n",
    "x = model.Dense_encoder(x)\n",
    "x.shape"
   ]
  },
  {
   "cell_type": "code",
   "execution_count": 18,
   "metadata": {},
   "outputs": [],
   "source": [
    "import torch.optim as optim\n",
    "import torch.nn as nn\n",
    "import torch.functional as F\n",
    "import torch\n",
    "from utils import padding\n",
    "from torch.utils.tensorboard import SummaryWriter\n",
    "import os\n",
    "\n",
    "lr = 5e-3\n",
    "epoches = 50\n",
    "run_no = 16\n",
    "\n",
    "RUNNAME = f\"{run_no}; lr={lr}; epoch={epoches}; lstm_hidden={lstm_hidden}; activation={model_config.get('activation', 'str')}\"\n",
    "SAVEPATH = f\"./runs/{RUNNAME}\"\n",
    "\n",
    "os.makedirs(SAVEPATH, exist_ok=True)\n",
    "\n",
    "writer = SummaryWriter(f'./logs/autoencoder{RUNNAME}')\n",
    "\n",
    "criterion = nn.MSELoss()\n",
    "optimizer = optim.Adam(model.parameters(), lr=lr)\n",
    "\n",
    "for epoch in range(epoches):\n",
    "    running_loss = 0.\n",
    "    # for data in train_dataset:\n",
    "    for data in train_dataset.iter_by_batch(batch_size=512):\n",
    "        optimizer.zero_grad()\n",
    "        _, x2, _ = data\n",
    "        output, _ = model(x2, \n",
    "            batched=model_config.batch_first\n",
    "            )\n",
    "        # print(output.shape, x2.shape)\n",
    "        # x2 = padding(x2, direction='left', pad_value=fill_value,\n",
    "        #     repeat=input_dims[0] - x2.shape[-1])\n",
    "        # print(x2.shape)\n",
    "        loss = criterion(output, x2)\n",
    "        loss.backward()\n",
    "        running_loss += loss.item()\n",
    "        optimizer.step()\n",
    "\n",
    "    writer.add_scalar('loss', running_loss / (len(train_dataset)), epoch)\n",
    "    if epoch % 5 == 0:\n",
    "        torch.save(\n",
    "        dict(epoch=epoch,\n",
    "            model_state_dict=model.state_dict(),\n",
    "            optimizer_state_dict=optimizer.state_dict(),\n",
    "            loss=loss),\n",
    "            os.path.join(SAVEPATH, f\"checkpoint_{epoch}.pth\")\n",
    "            )\n",
    "\n"
   ]
  },
  {
   "cell_type": "markdown",
   "metadata": {},
   "source": [
    "### 2.2 Run inference on the autoencoder"
   ]
  },
  {
   "cell_type": "code",
   "execution_count": 11,
   "metadata": {},
   "outputs": [
    {
     "data": {
      "text/plain": [
       "torch.Size([88, 30])"
      ]
     },
     "execution_count": 11,
     "metadata": {},
     "output_type": "execute_result"
    }
   ],
   "source": [
    "next(train_dataset.load_ticker_data(\"AAPL\", mode='train'))[1].shape"
   ]
  },
  {
   "cell_type": "code",
   "execution_count": 14,
   "metadata": {},
   "outputs": [
    {
     "data": {
      "text/plain": [
       "tensor([4.0074, 0.8466], dtype=torch.float64, grad_fn=<AddBackward0>)"
      ]
     },
     "execution_count": 14,
     "metadata": {},
     "output_type": "execute_result"
    }
   ],
   "source": [
    "model(next(train_dataset.load_ticker_data(\"AAPL\", mode='train'))[1], batched=False)[1]"
   ]
  },
  {
   "cell_type": "code",
   "execution_count": 15,
   "metadata": {},
   "outputs": [],
   "source": [
    "plot_data = {}\n",
    "for ticker in train_dataset.tickers:\n",
    "    loc = model(next(train_dataset.load_ticker_data(ticker, mode='test'))[1],\n",
    "        batched=False)[1].detach().numpy()\n",
    "    plot_data[ticker] = loc\n",
    "plot_data = pd.DataFrame(plot_data)"
   ]
  },
  {
   "cell_type": "code",
   "execution_count": 16,
   "metadata": {},
   "outputs": [
    {
     "data": {
      "text/html": [
       "<div>\n",
       "<style scoped>\n",
       "    .dataframe tbody tr th:only-of-type {\n",
       "        vertical-align: middle;\n",
       "    }\n",
       "\n",
       "    .dataframe tbody tr th {\n",
       "        vertical-align: top;\n",
       "    }\n",
       "\n",
       "    .dataframe thead th {\n",
       "        text-align: right;\n",
       "    }\n",
       "</style>\n",
       "<table border=\"1\" class=\"dataframe\">\n",
       "  <thead>\n",
       "    <tr style=\"text-align: right;\">\n",
       "      <th></th>\n",
       "      <th>0</th>\n",
       "      <th>1</th>\n",
       "    </tr>\n",
       "  </thead>\n",
       "  <tbody>\n",
       "    <tr>\n",
       "      <th>VICI</th>\n",
       "      <td>3.879251</td>\n",
       "      <td>0.812116</td>\n",
       "    </tr>\n",
       "    <tr>\n",
       "      <th>CFG</th>\n",
       "      <td>3.857888</td>\n",
       "      <td>0.816993</td>\n",
       "    </tr>\n",
       "    <tr>\n",
       "      <th>IR</th>\n",
       "      <td>3.866467</td>\n",
       "      <td>0.817753</td>\n",
       "    </tr>\n",
       "    <tr>\n",
       "      <th>BKR</th>\n",
       "      <td>3.866780</td>\n",
       "      <td>0.817763</td>\n",
       "    </tr>\n",
       "    <tr>\n",
       "      <th>FTV</th>\n",
       "      <td>3.867087</td>\n",
       "      <td>0.817800</td>\n",
       "    </tr>\n",
       "    <tr>\n",
       "      <th>...</th>\n",
       "      <td>...</td>\n",
       "      <td>...</td>\n",
       "    </tr>\n",
       "    <tr>\n",
       "      <th>AXP</th>\n",
       "      <td>4.002104</td>\n",
       "      <td>0.849646</td>\n",
       "    </tr>\n",
       "    <tr>\n",
       "      <th>DIS</th>\n",
       "      <td>4.116870</td>\n",
       "      <td>0.850134</td>\n",
       "    </tr>\n",
       "    <tr>\n",
       "      <th>GIS</th>\n",
       "      <td>4.136335</td>\n",
       "      <td>0.850402</td>\n",
       "    </tr>\n",
       "    <tr>\n",
       "      <th>CMCSA</th>\n",
       "      <td>4.136446</td>\n",
       "      <td>0.852674</td>\n",
       "    </tr>\n",
       "    <tr>\n",
       "      <th>RJF</th>\n",
       "      <td>3.964859</td>\n",
       "      <td>0.853438</td>\n",
       "    </tr>\n",
       "  </tbody>\n",
       "</table>\n",
       "<p>481 rows × 2 columns</p>\n",
       "</div>"
      ],
      "text/plain": [
       "              0         1\n",
       "VICI   3.879251  0.812116\n",
       "CFG    3.857888  0.816993\n",
       "IR     3.866467  0.817753\n",
       "BKR    3.866780  0.817763\n",
       "FTV    3.867087  0.817800\n",
       "...         ...       ...\n",
       "AXP    4.002104  0.849646\n",
       "DIS    4.116870  0.850134\n",
       "GIS    4.136335  0.850402\n",
       "CMCSA  4.136446  0.852674\n",
       "RJF    3.964859  0.853438\n",
       "\n",
       "[481 rows x 2 columns]"
      ]
     },
     "execution_count": 16,
     "metadata": {},
     "output_type": "execute_result"
    }
   ],
   "source": [
    "plot_data.T.sort_values([1, 0], axis=0)#.head(20)"
   ]
  },
  {
   "cell_type": "code",
   "execution_count": 17,
   "metadata": {},
   "outputs": [
    {
     "data": {
      "image/png": "[encoded data removed]",
      "text/plain": [
       "<Figure size 720x360 with 1 Axes>"
      ]
     },
     "metadata": {
      "needs_background": "light"
     },
     "output_type": "display_data"
    }
   ],
   "source": [
    "import matplotlib.pyplot as plt\n",
    "import numpy as np\n",
    "f, ax = plt.subplots(1, figsize=(10, 5))\n",
    "ax.scatter(plot_data.iloc[0,], \n",
    "    plot_data.iloc[1,],\n",
    "    label='spx stocks')\n",
    "for ticker, (xy) in plot_data.items():\n",
    "    ax.annotate(ticker, (xy[0], xy[1]))\n",
    "ax.legend()\n",
    "ax.set(title=\"SPX companeis - autoencoder embeddings\")\n",
    "plt.show()"
   ]
  },
  {
   "cell_type": "markdown",
   "metadata": {},
   "source": [
    "### 2.3 Loading the pretrained autoencoder"
   ]
  },
  {
   "cell_type": "code",
   "execution_count": null,
   "metadata": {},
   "outputs": [],
   "source": [
    "!mkdir -p ./runs/checkpoints/\n",
    "!gdown https://drive.google.com/file/d/13pQb8heOYzLbniJZG4GuJNfWYUnwJDxJ/view?usp=sharing -O ./runs/checkpoint/autoencoder.pt"
   ]
  },
  {
   "cell_type": "code",
   "execution_count": 9,
   "metadata": {},
   "outputs": [
    {
     "data": {
      "text/plain": [
       "<All keys matched successfully>"
      ]
     },
     "execution_count": 9,
     "metadata": {},
     "output_type": "execute_result"
    }
   ],
   "source": [
    "import torch\n",
    "import torch.nn as nn\n",
    "from models.autoencoder import AutoEncoder\n",
    "import torch.nn as nn\n",
    "from utils import Config\n",
    "import os\n",
    "\n",
    "input_dims = (40, 88)\n",
    "hidden_dims = (2, )\n",
    "lstm_hidden = 20\n",
    "model_config = Config(input_dims=input_dims, hidden_dims=hidden_dims, \n",
    "    padding=-1., activation=nn.Tanh(), # nn.LeakyReLU(negative_slope=0.1)\n",
    "    lstm_hidden=lstm_hidden)\n",
    "model = AutoEncoder(model_config)\n",
    "lr = 5e-3\n",
    "epoches = 30\n",
    "run_no = 12\n",
    "load_epoch=5\n",
    "\n",
    "RUNNAME = f\"{run_no}; lr={lr}; epoch={epoches}; lstm_hidden={lstm_hidden}; activation={model_config.get('activation', 'str')}\"\n",
    "SAVEPATH = f\"./runs/{RUNNAME}\"\n",
    "model.load_state_dict(\n",
    "    torch.load(os.path.join(SAVEPATH, f\"checkpoint_{load_epoch}.pt\")).get('model_state_dict'))"
   ]
  },
  {
   "cell_type": "code",
   "execution_count": 19,
   "metadata": {},
   "outputs": [
    {
     "data": {
      "text/plain": [
       "tensor([ 1., -1.], dtype=torch.float64, grad_fn=<TanhBackward0>)"
      ]
     },
     "execution_count": 19,
     "metadata": {},
     "output_type": "execute_result"
    }
   ],
   "source": [
    "model.eval()\n",
    "model(next(train_dataset.load_ticker_data(\"META\", mode='test'))[1])[1]"
   ]
  },
  {
   "cell_type": "code",
   "execution_count": null,
   "metadata": {},
   "outputs": [],
   "source": []
  }
 ],
 "metadata": {
  "kernelspec": {
   "display_name": "Python 3.9.12 ('sent_env')",
   "language": "python",
   "name": "python3"
  },
  "language_info": {
   "codemirror_mode": {
    "name": "ipython",
    "version": 3
   },
   "file_extension": ".py",
   "mimetype": "text/x-python",
   "name": "python",
   "nbconvert_exporter": "python",
   "pygments_lexer": "ipython3",
   "version": "3.9.12"
  },
  "orig_nbformat": 4,
  "vscode": {
   "interpreter": {
    "hash": "3fa5fd258d5799b56102c839ebdb81d43440c6319b18894ac20aca9c2309d787"
   }
  }
 },
 "nbformat": 4,
 "nbformat_minor": 2
}
