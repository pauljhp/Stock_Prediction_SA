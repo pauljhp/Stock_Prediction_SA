{
 "cells": [
  {
   "cell_type": "markdown",
   "metadata": {},
   "source": [
    "# Training the sentiment price prediction model"
   ]
  },
  {
   "cell_type": "markdown",
   "metadata": {},
   "source": [
    "## 0. Setup\n",
    "\n",
    "Run `$ bash setup.sh` to set up environments and download data."
   ]
  },
  {
   "cell_type": "code",
   "execution_count": null,
   "metadata": {},
   "outputs": [],
   "source": [
    "# setup environment\n",
    "!bash setup.sh"
   ]
  },
  {
   "cell_type": "code",
   "execution_count": null,
   "metadata": {},
   "outputs": [],
   "source": [
    "# You can also set up the environment manually:\n",
    "!conda create --name sent_env --file requirements.\n",
    "\n",
    "# --or--\n",
    "# !conda conda env create -f environment.yml\n",
    "\n",
    "!mkdir -p ./data\n",
    "\n",
    "# then download the sql files:\n",
    "!gdown https://drive.google.com/file/d/1YG_AQIbcY2Mi-bKMLN1hff66jDBFeh4O/view?usp=sharing -O ./data/spx_news_sentiment_fundamental.db\n",
    "!gdown https://drive.google.com/file/d/1C49ElctSD0hPsukQTkioneA7PeWBlMfe/view?usp=sharing -O ./data/spx_news_sentiment_price.db"
   ]
  },
  {
   "cell_type": "markdown",
   "metadata": {},
   "source": [
    "## 1. Loading data\n",
    "\n",
    "A dataset class has been implemented already. \n",
    "\n",
    "This uses the iterable style of the `Dataset` class.\n",
    "\n",
    "Initiate the BaseDataset class by passing a Config object, and wrap the kwargs\n",
    "into the Config object. \n",
    "\n",
    "When calling the `__iter__` method using `for data in dataset`, a triple will be returned `(x1, x2, y)`. x1 is the sentiment/price data, x2 is the past financial data up until the train data time, and y is the share price performance during the look_forward period (defaul 5 days, or a trading week). \n",
    "\n",
    "The `forward()` method needs to take in (x1, x2), as x2 carries information about the stock's fundamentals and type, but is of a different dimension as x1. An autoencoder model has been implemented and trained to convert the different dimensions of x2 into the same hidden dimensions (and is also useful for dimensionality reduction).\n",
    "\n",
    "Note x1 and x2 are scaled to between -1 and 1. "
   ]
  },
  {
   "cell_type": "code",
   "execution_count": 4,
   "metadata": {},
   "outputs": [],
   "source": [
    "from datasets.datasets import BaseDataset\n",
    "from torch.utils.data import Dataset, DataLoader\n",
    "import pandas as pd\n",
    "from utils import Config\n",
    "\n",
    "config = Config(mode='train', look_back=100, look_forward=5, num_workers=64)\n",
    "dataset = BaseDataset(config=config)"
   ]
  },
  {
   "cell_type": "markdown",
   "metadata": {},
   "source": [
    "## 2. Train autoencoder"
   ]
  },
  {
   "cell_type": "code",
   "execution_count": 5,
   "metadata": {},
   "outputs": [],
   "source": [
    "from models.autoencoder import AutoEncoder"
   ]
  },
  {
   "cell_type": "code",
   "execution_count": 6,
   "metadata": {},
   "outputs": [],
   "source": [
    "model = AutoEncoder()"
   ]
  },
  {
   "cell_type": "code",
   "execution_count": null,
   "metadata": {},
   "outputs": [],
   "source": []
  },
  {
   "cell_type": "code",
   "execution_count": 3,
   "metadata": {},
   "outputs": [
    {
     "name": "stdout",
     "output_type": "stream",
     "text": [
      "AutoEncoder(\n",
      "  (LSTM_encoder): LSTM(88, 5, batch_first=True)\n",
      "  (Conv1D_encoder): Conv1d(100, 100, kernel_size=(3,), stride=(1,))\n",
      "  (MaxPool1D_encoder): MaxPool1d(kernel_size=2, stride=2, padding=0, dilation=1, ceil_mode=False)\n",
      "  (Flatten_encoder): Flatten(start_dim=1, end_dim=-1)\n",
      "  (Dense_encoder): Linear(in_features=100, out_features=5, bias=True)\n",
      ")\n"
     ]
    }
   ],
   "source": [
    "print(model)"
   ]
  },
  {
   "cell_type": "code",
   "execution_count": 2,
   "metadata": {},
   "outputs": [
    {
     "name": "stdout",
     "output_type": "stream",
     "text": [
      "torch.Size([18, 100]) torch.Size([88, 23]) tensor(0.0567, dtype=torch.float64)\n"
     ]
    }
   ],
   "source": [
    "for data in dataset:\n",
    "    x1, x2, y = data\n",
    "    print(x1.shape, x2.shape, y)\n",
    "    break\n"
   ]
  },
  {
   "cell_type": "code",
   "execution_count": 7,
   "metadata": {},
   "outputs": [
    {
     "data": {
      "text/plain": [
       "tensor([[ 0.0000,  0.0000,  0.0000,  ..., -0.9956, -0.9955, -0.9956],\n",
       "        [ 0.0000,  0.0000,  0.0000,  ..., -1.0000, -0.9999, -0.9999],\n",
       "        [ 0.0000,  0.0000,  0.0000,  ..., -0.9991, -0.9984, -0.9985],\n",
       "        ...,\n",
       "        [ 0.0000,  0.0000,  0.0000,  ..., -1.0000, -1.0000, -1.0000],\n",
       "        [ 0.0000,  0.0000,  0.0000,  ..., -0.9835, -0.9835, -0.9835],\n",
       "        [ 0.0000,  0.0000,  0.0000,  ...,  0.9506,  0.9506,  0.9506]],\n",
       "       dtype=torch.float64)"
      ]
     },
     "execution_count": 7,
     "metadata": {},
     "output_type": "execute_result"
    }
   ],
   "source": [
    "from utils import padding\n",
    "padding(x2, repeat=100 - x2.shape[1])"
   ]
  },
  {
   "cell_type": "code",
   "execution_count": null,
   "metadata": {},
   "outputs": [],
   "source": []
  }
 ],
 "metadata": {
  "kernelspec": {
   "display_name": "Python 3.9.12 ('sent_env')",
   "language": "python",
   "name": "python3"
  },
  "language_info": {
   "codemirror_mode": {
    "name": "ipython",
    "version": 3
   },
   "file_extension": ".py",
   "mimetype": "text/x-python",
   "name": "python",
   "nbconvert_exporter": "python",
   "pygments_lexer": "ipython3",
   "version": "3.9.12"
  },
  "orig_nbformat": 4,
  "vscode": {
   "interpreter": {
    "hash": "3fa5fd258d5799b56102c839ebdb81d43440c6319b18894ac20aca9c2309d787"
   }
  }
 },
 "nbformat": 4,
 "nbformat_minor": 2
}
